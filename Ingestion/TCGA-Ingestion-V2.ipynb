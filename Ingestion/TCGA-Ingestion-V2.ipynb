{
 "cells": [
  {
   "cell_type": "markdown",
   "metadata": {
    "application/vnd.databricks.v1+cell": {
     "cellMetadata": {
      "byteLimit": 2048000,
      "rowLimit": 10000
     },
     "inputWidgets": {},
     "nuid": "7b17677c-1db8-463c-9d9a-4c5b7968f98c",
     "showTitle": false,
     "title": ""
    }
   },
   "source": [
    "## Importing cases from the TCGA-BRCA project with their population characteristics"
   ]
  },
  {
   "cell_type": "code",
   "execution_count": 0,
   "metadata": {
    "application/vnd.databricks.v1+cell": {
     "cellMetadata": {
      "byteLimit": 2048000,
      "rowLimit": 10000
     },
     "inputWidgets": {},
     "nuid": "331ce0a5-b7c0-4110-bd9d-6b5254a33584",
     "showTitle": false,
     "title": ""
    }
   },
   "outputs": [],
   "source": [
    "import requests\n",
    "import json\n",
    "import pandas as pd\n",
    "import io\n",
    "import os"
   ]
  },
  {
   "cell_type": "code",
   "execution_count": 0,
   "metadata": {
    "application/vnd.databricks.v1+cell": {
     "cellMetadata": {
      "byteLimit": 2048000,
      "rowLimit": 10000
     },
     "inputWidgets": {},
     "nuid": "c7b22cba-dd94-4954-9dc3-38715aac732f",
     "showTitle": false,
     "title": ""
    }
   },
   "outputs": [],
   "source": [
    "# Creating a list of projects with somatic mutations across different cancer types\n",
    "ssms_projects = [\"TCGA-BRCA\", \"TCGA-COAD\", \"TCGA-READ\", \"TCGA-LUSC\", \"TCGA-LUAD\", \"CPTAC-3\", \"TARGET-AML\", \"TARGET-ALL-P2\", \"MMRF-COMMPASS\", \"BEATAML1.0-COHORT\", \"TCGA-LAML\", \"TCGA-GBM\", \"TCGA-LGG\", \"TCGA-UCEC\", \"TCGA-KIRC\", \"TCGA-KIRP\", \"TCGA-KICH\", \"TCGA-PAAD\", \"TCGA-SKCM\", \"HCMI-CMDC\", \"CMI-ASC\", \"TCGA-THCA\", \"TCGA-DLBC\"]"
   ]
  },
  {
   "cell_type": "code",
   "execution_count": 0,
   "metadata": {
    "application/vnd.databricks.v1+cell": {
     "cellMetadata": {
      "byteLimit": 2048000,
      "rowLimit": 10000
     },
     "inputWidgets": {},
     "nuid": "709ffce7-a359-4b73-85c5-30a2dfc3fdd0",
     "showTitle": false,
     "title": ""
    }
   },
   "outputs": [
    {
     "output_type": "stream",
     "name": "stdout",
     "output_type": "stream",
     "text": [
      "(14304, 22)\n"
     ]
    },
    {
     "output_type": "execute_result",
     "data": {
      "text/html": [
       "<div>\n",
       "<style scoped>\n",
       "    .dataframe tbody tr th:only-of-type {\n",
       "        vertical-align: middle;\n",
       "    }\n",
       "\n",
       "    .dataframe tbody tr th {\n",
       "        vertical-align: top;\n",
       "    }\n",
       "\n",
       "    .dataframe thead th {\n",
       "        text-align: right;\n",
       "    }\n",
       "</style>\n",
       "<table border=\"1\" class=\"dataframe\">\n",
       "  <thead>\n",
       "    <tr style=\"text-align: right;\">\n",
       "      <th></th>\n",
       "      <th>demographic.race</th>\n",
       "      <th>demographic.year_of_death</th>\n",
       "      <th>diagnoses.0.age_at_diagnosis</th>\n",
       "      <th>diagnoses.0.ajcc_pathologic_stage</th>\n",
       "      <th>diagnoses.0.primary_diagnosis</th>\n",
       "      <th>diagnoses.0.prior_malignancy</th>\n",
       "      <th>diagnoses.0.synchronous_malignancy</th>\n",
       "      <th>diagnoses.1.age_at_diagnosis</th>\n",
       "      <th>diagnoses.1.ajcc_pathologic_stage</th>\n",
       "      <th>diagnoses.1.primary_diagnosis</th>\n",
       "      <th>diagnoses.1.prior_malignancy</th>\n",
       "      <th>diagnoses.1.synchronous_malignancy</th>\n",
       "      <th>diagnoses.2.age_at_diagnosis</th>\n",
       "      <th>diagnoses.2.ajcc_pathologic_stage</th>\n",
       "      <th>diagnoses.2.primary_diagnosis</th>\n",
       "      <th>diagnoses.2.prior_malignancy</th>\n",
       "      <th>diagnoses.2.synchronous_malignancy</th>\n",
       "      <th>disease_type</th>\n",
       "      <th>id</th>\n",
       "      <th>primary_site</th>\n",
       "      <th>project.project_id</th>\n",
       "      <th>submitter_id</th>\n",
       "    </tr>\n",
       "  </thead>\n",
       "  <tbody>\n",
       "    <tr>\n",
       "      <th>0</th>\n",
       "      <td>black or african american</td>\n",
       "      <td>NaN</td>\n",
       "      <td>3505.0</td>\n",
       "      <td>NaN</td>\n",
       "      <td>Acute myeloid leukemia, NOS</td>\n",
       "      <td>NaN</td>\n",
       "      <td>NaN</td>\n",
       "      <td>NaN</td>\n",
       "      <td>NaN</td>\n",
       "      <td>NaN</td>\n",
       "      <td>NaN</td>\n",
       "      <td>NaN</td>\n",
       "      <td>NaN</td>\n",
       "      <td>NaN</td>\n",
       "      <td>NaN</td>\n",
       "      <td>NaN</td>\n",
       "      <td>NaN</td>\n",
       "      <td>Myeloid Leukemias</td>\n",
       "      <td>29312892-078e-4a35-809c-729f55370967</td>\n",
       "      <td>Hematopoietic and reticuloendothelial systems</td>\n",
       "      <td>TARGET-AML</td>\n",
       "      <td>TARGET-20-PAUPIY</td>\n",
       "    </tr>\n",
       "    <tr>\n",
       "      <th>1</th>\n",
       "      <td>white</td>\n",
       "      <td>NaN</td>\n",
       "      <td>2327.0</td>\n",
       "      <td>NaN</td>\n",
       "      <td>Acute myeloid leukemia, NOS</td>\n",
       "      <td>NaN</td>\n",
       "      <td>NaN</td>\n",
       "      <td>NaN</td>\n",
       "      <td>NaN</td>\n",
       "      <td>NaN</td>\n",
       "      <td>NaN</td>\n",
       "      <td>NaN</td>\n",
       "      <td>NaN</td>\n",
       "      <td>NaN</td>\n",
       "      <td>NaN</td>\n",
       "      <td>NaN</td>\n",
       "      <td>NaN</td>\n",
       "      <td>Myeloid Leukemias</td>\n",
       "      <td>2939c0a9-3c47-4019-b9e3-958e84a12bb5</td>\n",
       "      <td>Hematopoietic and reticuloendothelial systems</td>\n",
       "      <td>TARGET-AML</td>\n",
       "      <td>TARGET-20-PAVDDU</td>\n",
       "    </tr>\n",
       "    <tr>\n",
       "      <th>2</th>\n",
       "      <td>white</td>\n",
       "      <td>NaN</td>\n",
       "      <td>6115.0</td>\n",
       "      <td>NaN</td>\n",
       "      <td>Acute myeloid leukemia, NOS</td>\n",
       "      <td>NaN</td>\n",
       "      <td>NaN</td>\n",
       "      <td>NaN</td>\n",
       "      <td>NaN</td>\n",
       "      <td>NaN</td>\n",
       "      <td>NaN</td>\n",
       "      <td>NaN</td>\n",
       "      <td>NaN</td>\n",
       "      <td>NaN</td>\n",
       "      <td>NaN</td>\n",
       "      <td>NaN</td>\n",
       "      <td>NaN</td>\n",
       "      <td>Myeloid Leukemias</td>\n",
       "      <td>cecefca5-6308-49f6-b9c2-226235d60613</td>\n",
       "      <td>Hematopoietic and reticuloendothelial systems</td>\n",
       "      <td>TARGET-AML</td>\n",
       "      <td>TARGET-20-PAWYTW</td>\n",
       "    </tr>\n",
       "    <tr>\n",
       "      <th>3</th>\n",
       "      <td>white</td>\n",
       "      <td>NaN</td>\n",
       "      <td>5854.0</td>\n",
       "      <td>NaN</td>\n",
       "      <td>Acute myeloid leukemia, NOS</td>\n",
       "      <td>NaN</td>\n",
       "      <td>NaN</td>\n",
       "      <td>NaN</td>\n",
       "      <td>NaN</td>\n",
       "      <td>NaN</td>\n",
       "      <td>NaN</td>\n",
       "      <td>NaN</td>\n",
       "      <td>NaN</td>\n",
       "      <td>NaN</td>\n",
       "      <td>NaN</td>\n",
       "      <td>NaN</td>\n",
       "      <td>NaN</td>\n",
       "      <td>Myeloid Leukemias</td>\n",
       "      <td>56404ff6-a971-4d84-9891-0053b1075ee3</td>\n",
       "      <td>Hematopoietic and reticuloendothelial systems</td>\n",
       "      <td>TARGET-AML</td>\n",
       "      <td>TARGET-20-PAWLHJ</td>\n",
       "    </tr>\n",
       "    <tr>\n",
       "      <th>4</th>\n",
       "      <td>white</td>\n",
       "      <td>NaN</td>\n",
       "      <td>5129.0</td>\n",
       "      <td>NaN</td>\n",
       "      <td>Acute myeloid leukemia, NOS</td>\n",
       "      <td>NaN</td>\n",
       "      <td>NaN</td>\n",
       "      <td>NaN</td>\n",
       "      <td>NaN</td>\n",
       "      <td>NaN</td>\n",
       "      <td>NaN</td>\n",
       "      <td>NaN</td>\n",
       "      <td>NaN</td>\n",
       "      <td>NaN</td>\n",
       "      <td>NaN</td>\n",
       "      <td>NaN</td>\n",
       "      <td>NaN</td>\n",
       "      <td>Myeloid Leukemias</td>\n",
       "      <td>792187f7-d5c3-497d-9573-f7411f027aa3</td>\n",
       "      <td>Hematopoietic and reticuloendothelial systems</td>\n",
       "      <td>TARGET-AML</td>\n",
       "      <td>TARGET-20-PAXLJV</td>\n",
       "    </tr>\n",
       "  </tbody>\n",
       "</table>\n",
       "</div>"
      ],
      "text/plain": [
       "            demographic.race  ...      submitter_id\n",
       "0  black or african american  ...  TARGET-20-PAUPIY\n",
       "1                      white  ...  TARGET-20-PAVDDU\n",
       "2                      white  ...  TARGET-20-PAWYTW\n",
       "3                      white  ...  TARGET-20-PAWLHJ\n",
       "4                      white  ...  TARGET-20-PAXLJV\n",
       "\n",
       "[5 rows x 22 columns]"
      ]
     },
     "execution_count": 20,
     "metadata": {},
     "output_type": "execute_result"
    }
   ],
   "source": [
    "cases_fields = [\n",
    "    \"project.project_id\",\n",
    "    \"primary_site\",\n",
    "    \"submitter_id\",\n",
    "    \"demographic.race\",\n",
    "    \"demographic.year_of_death\",\n",
    "    \"disease_type\",\n",
    "    \"diagnoses.age_at_diagnosis\",\n",
    "    \"diagnoses.primary_diagnosis\",\n",
    "    \"diagnoses.ajcc_pathologic_stage\",\n",
    "    \"diagnoses.prior_malignancy\",\n",
    "    \"diagnoses.synchronous_malignancy\"\n",
    "    ]\n",
    "\n",
    "cases_fields = \",\".join(cases_fields)\n",
    "\n",
    "cases_endpt = \"https://api.gdc.cancer.gov/cases\"\n",
    "\n",
    "cases_filters = {\n",
    "    \"op\": \"and\",\n",
    "    \"content\":[\n",
    "        {\n",
    "        \"op\": \"in\",\n",
    "        \"content\": {\n",
    "            \"field\": \"project.project_id\",\n",
    "            \"value\": ssms_projects\n",
    "            }\n",
    "        },\n",
    "    ]\n",
    "}\n",
    "\n",
    "# With a GET request, the filters parameter needs to be converted\n",
    "# from a dictionary to JSON-formatted string\n",
    "\n",
    "cases_params = {\n",
    "    \"filters\": json.dumps(cases_filters),\n",
    "    \"fields\": cases_fields,\n",
    "    \"format\": \"CSV\",\n",
    "    \"size\": \"20000\"\n",
    "    }\n",
    "\n",
    "cases_response = requests.get(cases_endpt, params = cases_params)\n",
    "\n",
    "byte_cases_data = cases_response.content\n",
    "\n",
    "string_cases_data = byte_cases_data.decode('ASCII')\n",
    "\n",
    "cases_data = io.StringIO(string_cases_data)\n",
    "\n",
    "cases_df = pd.read_csv(cases_data, sep=\",\")\n",
    "\n",
    "print(cases_df.shape) \n",
    "cases_df.head()"
   ]
  },
  {
   "cell_type": "code",
   "execution_count": 0,
   "metadata": {
    "application/vnd.databricks.v1+cell": {
     "cellMetadata": {
      "byteLimit": 2048000,
      "rowLimit": 10000
     },
     "inputWidgets": {},
     "nuid": "57880f29-4353-4ad1-9193-e0f0366c7bca",
     "showTitle": false,
     "title": ""
    }
   },
   "outputs": [
    {
     "output_type": "stream",
     "name": "stdout",
     "output_type": "stream",
     "text": [
      "(14304, 12)\n"
     ]
    },
    {
     "output_type": "execute_result",
     "data": {
      "text/html": [
       "<div>\n",
       "<style scoped>\n",
       "    .dataframe tbody tr th:only-of-type {\n",
       "        vertical-align: middle;\n",
       "    }\n",
       "\n",
       "    .dataframe tbody tr th {\n",
       "        vertical-align: top;\n",
       "    }\n",
       "\n",
       "    .dataframe thead th {\n",
       "        text-align: right;\n",
       "    }\n",
       "</style>\n",
       "<table border=\"1\" class=\"dataframe\">\n",
       "  <thead>\n",
       "    <tr style=\"text-align: right;\">\n",
       "      <th></th>\n",
       "      <th>demographic.race</th>\n",
       "      <th>demographic.year_of_death</th>\n",
       "      <th>diagnoses.0.age_at_diagnosis</th>\n",
       "      <th>diagnoses.0.ajcc_pathologic_stage</th>\n",
       "      <th>diagnoses.0.primary_diagnosis</th>\n",
       "      <th>diagnoses.0.prior_malignancy</th>\n",
       "      <th>diagnoses.0.synchronous_malignancy</th>\n",
       "      <th>disease_type</th>\n",
       "      <th>id</th>\n",
       "      <th>primary_site</th>\n",
       "      <th>project.project_id</th>\n",
       "      <th>submitter_id</th>\n",
       "    </tr>\n",
       "  </thead>\n",
       "  <tbody>\n",
       "    <tr>\n",
       "      <th>0</th>\n",
       "      <td>black or african american</td>\n",
       "      <td>NaN</td>\n",
       "      <td>3505.0</td>\n",
       "      <td>NaN</td>\n",
       "      <td>Acute myeloid leukemia, NOS</td>\n",
       "      <td>NaN</td>\n",
       "      <td>NaN</td>\n",
       "      <td>Myeloid Leukemias</td>\n",
       "      <td>29312892-078e-4a35-809c-729f55370967</td>\n",
       "      <td>Hematopoietic and reticuloendothelial systems</td>\n",
       "      <td>TARGET-AML</td>\n",
       "      <td>TARGET-20-PAUPIY</td>\n",
       "    </tr>\n",
       "    <tr>\n",
       "      <th>1</th>\n",
       "      <td>white</td>\n",
       "      <td>NaN</td>\n",
       "      <td>2327.0</td>\n",
       "      <td>NaN</td>\n",
       "      <td>Acute myeloid leukemia, NOS</td>\n",
       "      <td>NaN</td>\n",
       "      <td>NaN</td>\n",
       "      <td>Myeloid Leukemias</td>\n",
       "      <td>2939c0a9-3c47-4019-b9e3-958e84a12bb5</td>\n",
       "      <td>Hematopoietic and reticuloendothelial systems</td>\n",
       "      <td>TARGET-AML</td>\n",
       "      <td>TARGET-20-PAVDDU</td>\n",
       "    </tr>\n",
       "    <tr>\n",
       "      <th>2</th>\n",
       "      <td>white</td>\n",
       "      <td>NaN</td>\n",
       "      <td>6115.0</td>\n",
       "      <td>NaN</td>\n",
       "      <td>Acute myeloid leukemia, NOS</td>\n",
       "      <td>NaN</td>\n",
       "      <td>NaN</td>\n",
       "      <td>Myeloid Leukemias</td>\n",
       "      <td>cecefca5-6308-49f6-b9c2-226235d60613</td>\n",
       "      <td>Hematopoietic and reticuloendothelial systems</td>\n",
       "      <td>TARGET-AML</td>\n",
       "      <td>TARGET-20-PAWYTW</td>\n",
       "    </tr>\n",
       "    <tr>\n",
       "      <th>3</th>\n",
       "      <td>white</td>\n",
       "      <td>NaN</td>\n",
       "      <td>5854.0</td>\n",
       "      <td>NaN</td>\n",
       "      <td>Acute myeloid leukemia, NOS</td>\n",
       "      <td>NaN</td>\n",
       "      <td>NaN</td>\n",
       "      <td>Myeloid Leukemias</td>\n",
       "      <td>56404ff6-a971-4d84-9891-0053b1075ee3</td>\n",
       "      <td>Hematopoietic and reticuloendothelial systems</td>\n",
       "      <td>TARGET-AML</td>\n",
       "      <td>TARGET-20-PAWLHJ</td>\n",
       "    </tr>\n",
       "    <tr>\n",
       "      <th>4</th>\n",
       "      <td>white</td>\n",
       "      <td>NaN</td>\n",
       "      <td>5129.0</td>\n",
       "      <td>NaN</td>\n",
       "      <td>Acute myeloid leukemia, NOS</td>\n",
       "      <td>NaN</td>\n",
       "      <td>NaN</td>\n",
       "      <td>Myeloid Leukemias</td>\n",
       "      <td>792187f7-d5c3-497d-9573-f7411f027aa3</td>\n",
       "      <td>Hematopoietic and reticuloendothelial systems</td>\n",
       "      <td>TARGET-AML</td>\n",
       "      <td>TARGET-20-PAXLJV</td>\n",
       "    </tr>\n",
       "  </tbody>\n",
       "</table>\n",
       "</div>"
      ],
      "text/plain": [
       "            demographic.race  ...      submitter_id\n",
       "0  black or african american  ...  TARGET-20-PAUPIY\n",
       "1                      white  ...  TARGET-20-PAVDDU\n",
       "2                      white  ...  TARGET-20-PAWYTW\n",
       "3                      white  ...  TARGET-20-PAWLHJ\n",
       "4                      white  ...  TARGET-20-PAXLJV\n",
       "\n",
       "[5 rows x 12 columns]"
      ]
     },
     "execution_count": 21,
     "metadata": {},
     "output_type": "execute_result"
    }
   ],
   "source": [
    "selected_cols = ['demographic.race', \n",
    "                 'demographic.year_of_death', \n",
    "                 'diagnoses.0.age_at_diagnosis', \n",
    "                 'diagnoses.0.ajcc_pathologic_stage', \n",
    "                 'diagnoses.0.primary_diagnosis', \n",
    "                 'diagnoses.0.prior_malignancy', \n",
    "                 'diagnoses.0.synchronous_malignancy', \n",
    "                 'disease_type', \n",
    "                 'id', \n",
    "                 'primary_site', \n",
    "                 'project.project_id', \n",
    "                 'submitter_id']\n",
    "\n",
    "cases_df = cases_df[selected_cols]\n",
    "print(cases_df.shape) \n",
    "cases_df.head()"
   ]
  },
  {
   "cell_type": "markdown",
   "metadata": {
    "application/vnd.databricks.v1+cell": {
     "cellMetadata": {
      "byteLimit": 2048000,
      "rowLimit": 10000
     },
     "inputWidgets": {},
     "nuid": "a79a1b37-4693-4663-a6e9-3d610891d25a",
     "showTitle": false,
     "title": ""
    }
   },
   "source": [
    "## Top most commonly mutated genes across the cancer types"
   ]
  },
  {
   "cell_type": "code",
   "execution_count": 0,
   "metadata": {
    "application/vnd.databricks.v1+cell": {
     "cellMetadata": {
      "byteLimit": 2048000,
      "rowLimit": 10000
     },
     "inputWidgets": {},
     "nuid": "14ed1a59-2689-4041-aaef-ccf6177159b1",
     "showTitle": false,
     "title": ""
    }
   },
   "outputs": [],
   "source": [
    "def getSSMS(project):\n",
    "    top_ssms_endpt = \"https://api.gdc.cancer.gov/analysis/top_mutated_genes_by_project\"\n",
    "\n",
    "    top_ssms_fields = [\n",
    "        \"name\",\n",
    "        \"symbol\"\n",
    "        ]\n",
    "\n",
    "    top_ssms_fields = \",\".join(top_ssms_fields)\n",
    "\n",
    "    top_ssms_filters = {  \n",
    "    \"op\":\"AND\",\n",
    "    \"content\":[  \n",
    "        {  \n",
    "            \"op\":\"=\",\n",
    "            \"content\":{  \n",
    "                \"field\":\"case.project.project_id\",\n",
    "                \"value\": project\n",
    "            }\n",
    "        },\n",
    "        {  \n",
    "            \"op\":\"in\",\n",
    "            \"content\":{  \n",
    "                \"field\":\"case.ssm.consequence.transcript.annotation.vep_impact\",\n",
    "                \"value\":[  \n",
    "                \"HIGH\",\n",
    "                \"MODERATE\"\n",
    "                ]\n",
    "            }\n",
    "        }\n",
    "    ]\n",
    "    }\n",
    "\n",
    "    top_ssms_params = {\n",
    "        \"filters\": json.dumps(top_ssms_filters),\n",
    "        \"fields\": top_ssms_fields,\n",
    "        \"format\": \"CSV\",\n",
    "        \"size\": \"3\"\n",
    "        }\n",
    "\n",
    "    top_ssms_response = requests.get(top_ssms_endpt, params = top_ssms_params)\n",
    "\n",
    "    if top_ssms_response == None or top_ssms_response.content == bytes('\\r\\n', 'utf-8'):\n",
    "        return []\n",
    "    else:\n",
    "        byte_top_ssms_data = top_ssms_response.content\n",
    "        string_top_ssms_data = byte_top_ssms_data.decode('ASCII')\n",
    "        top_ssms_data = io.StringIO(string_top_ssms_data)\n",
    "        top_ssms_df = pd.read_csv(top_ssms_data, sep=\",\")\n",
    "        return top_ssms_df['symbol'].tolist()\n",
    "    return None"
   ]
  },
  {
   "cell_type": "code",
   "execution_count": 0,
   "metadata": {
    "application/vnd.databricks.v1+cell": {
     "cellMetadata": {
      "byteLimit": 2048000,
      "rowLimit": 10000
     },
     "inputWidgets": {},
     "nuid": "26491b83-1148-4c6c-b4d1-efd5a00b1cce",
     "showTitle": false,
     "title": ""
    }
   },
   "outputs": [
    {
     "output_type": "stream",
     "name": "stdout",
     "output_type": "stream",
     "text": [
      "['TP53', 'PIK3CA', 'TTN', 'APC', 'CSMD3', 'MUC16', 'KRAS', 'NRAS', 'MUC5B', 'NOTCH1', 'IGHV2-70', 'IGLV3-1', 'DNMT3A', 'NPM1', 'FLT3', 'PTEN', 'IDH1', 'ATRX', 'ARID1A', 'VHL', 'PBRM1', 'MET', 'SMAD4', 'BRAF', 'LRP2', 'FREM2', 'KMT2D', 'BTG2', 'B2M']\n29\n"
     ]
    }
   ],
   "source": [
    "ssms_list = []\n",
    "\n",
    "for project in ssms_projects:\n",
    "    ssms_list += getSSMS(project)\n",
    "\n",
    "ssms_list = list(dict.fromkeys(ssms_list))\n",
    "print(ssms_list)\n",
    "print(len(ssms_list))"
   ]
  },
  {
   "cell_type": "markdown",
   "metadata": {
    "application/vnd.databricks.v1+cell": {
     "cellMetadata": {
      "byteLimit": 2048000,
      "rowLimit": 10000
     },
     "inputWidgets": {},
     "nuid": "08a7af81-bae5-45cb-8d3d-d033095fe80e",
     "showTitle": false,
     "title": ""
    }
   },
   "source": [
    "# Querying ssm occurrences in each case using Apache Spark UDF"
   ]
  },
  {
   "cell_type": "code",
   "execution_count": 0,
   "metadata": {
    "application/vnd.databricks.v1+cell": {
     "cellMetadata": {
      "byteLimit": 2048000,
      "rowLimit": 10000
     },
     "inputWidgets": {},
     "nuid": "96389ab7-d717-4908-a5fa-062a33cc551e",
     "showTitle": false,
     "title": ""
    }
   },
   "outputs": [],
   "source": [
    "# You can also use this section to suppress warnings generated by your code:\n",
    "def warn(*args, **kwargs):\n",
    "    pass\n",
    "import warnings\n",
    "warnings.warn = warn\n",
    "warnings.filterwarnings('ignore')\n",
    "\n",
    "# import SparkSession\n",
    "import pyspark\n",
    "from pyspark.sql import SparkSession\n",
    "spark = SparkSession.builder.appName(\"TCGA\").getOrCreate()\n",
    "\n",
    "from pyspark import SparkContext\n",
    "sc = spark.sparkContext"
   ]
  },
  {
   "cell_type": "code",
   "execution_count": 0,
   "metadata": {
    "application/vnd.databricks.v1+cell": {
     "cellMetadata": {
      "byteLimit": 2048000,
      "rowLimit": 10000
     },
     "inputWidgets": {},
     "nuid": "35315b24-8b74-41c3-9a0e-3dd07cc27489",
     "showTitle": false,
     "title": ""
    }
   },
   "outputs": [],
   "source": [
    "from pyspark.sql.functions import udf, col, array_contains, lit\n",
    "from pyspark.sql.types import StructType, StructField, IntegerType, StringType, ArrayType\n",
    "from pyspark.sql import Row"
   ]
  },
  {
   "cell_type": "code",
   "execution_count": 0,
   "metadata": {
    "application/vnd.databricks.v1+cell": {
     "cellMetadata": {
      "byteLimit": 2048000,
      "rowLimit": 10000
     },
     "inputWidgets": {},
     "nuid": "45c2b691-bfbd-4a04-8d82-75ec5b776cef",
     "showTitle": false,
     "title": ""
    }
   },
   "outputs": [],
   "source": [
    "# Defining the api get request\n",
    "def executeRestApi(project_id, case_id, top_ssms):\n",
    "    \n",
    "    ssm_filters = {  \n",
    "       \"op\":\"AND\",\n",
    "       \"content\":[  \n",
    "          {  \n",
    "             \"op\":\"=\",\n",
    "             \"content\":{  \n",
    "                \"field\":\"case.project.project_id\",\n",
    "                \"value\": \"{project_id}\".format(project_id=project_id)\n",
    "             }\n",
    "          },\n",
    "          {  \n",
    "                \"op\":\"=\",\n",
    "                \"content\":{  \n",
    "                  \"field\":\"case.submitter_id\",\n",
    "                  \"value\": \"{case_id}\".format(case_id=case_id)\n",
    "             }\n",
    "          },\n",
    "           {  \n",
    "             \"op\":\"in\",\n",
    "             \"content\":{  \n",
    "                \"field\":\"ssm.consequence.transcript.gene.symbol\",\n",
    "                \"value\": top_ssms\n",
    "             }\n",
    "          }\n",
    "       ]\n",
    "    }\n",
    "    \n",
    "    ssm_params = {\n",
    "        \"filters\": json.dumps(ssm_filters),\n",
    "        \"fields\": \"ssm.consequence.transcript.gene.symbol\",\n",
    "        \"format\": \"CSV\",\n",
    "        \"size\": \"29\"\n",
    "    }\n",
    "    \n",
    "    res = None\n",
    "    \n",
    "    try:\n",
    "        res = requests.get(\"https://api.gdc.cancer.gov/ssm_occurrences\", params = ssm_params)\n",
    "    except Exception as e:\n",
    "        return e\n",
    "    if res!= None and res.content != bytes('\\r\\n', 'utf-8'):\n",
    "        bytes_data = res.content\n",
    "        \n",
    "        string_ssm_data = bytes_data.decode('ASCII')\n",
    "        \n",
    "        ssm_data = io.StringIO(string_ssm_data)\n",
    "\n",
    "        temp_ssm_df = pd.read_csv(ssm_data, sep=\",\")\n",
    "\n",
    "        ssms_result = temp_ssm_df[\"ssm.consequence.0.transcript.gene.symbol\"].tolist()\n",
    "        \n",
    "        return ssms_result\n",
    "    else:\n",
    "        return \"\"\n",
    "    return None"
   ]
  },
  {
   "cell_type": "code",
   "execution_count": 0,
   "metadata": {
    "application/vnd.databricks.v1+cell": {
     "cellMetadata": {
      "byteLimit": 2048000,
      "rowLimit": 10000
     },
     "inputWidgets": {},
     "nuid": "ba3c050b-9ad1-42aa-8fa8-0fc8e07c0b37",
     "showTitle": false,
     "title": ""
    }
   },
   "outputs": [],
   "source": [
    "# Creating the UDF\n",
    "udf_executeRestApi = udf(executeRestApi, ArrayType(StringType()))"
   ]
  },
  {
   "cell_type": "code",
   "execution_count": 0,
   "metadata": {
    "application/vnd.databricks.v1+cell": {
     "cellMetadata": {
      "byteLimit": 2048000,
      "rowLimit": 10000
     },
     "inputWidgets": {},
     "nuid": "10c4e93c-0bbd-4d2b-b136-505890b0ce03",
     "showTitle": false,
     "title": ""
    }
   },
   "outputs": [
    {
     "output_type": "stream",
     "name": "stdout",
     "output_type": "stream",
     "text": [
      "root\n |-- demographic.race: string (nullable = true)\n |-- demographic.year_of_death: double (nullable = true)\n |-- diagnoses.0.age_at_diagnosis: double (nullable = true)\n |-- diagnoses.0.ajcc_pathologic_stage: string (nullable = true)\n |-- diagnoses.0.primary_diagnosis: string (nullable = true)\n |-- diagnoses.0.prior_malignancy: string (nullable = true)\n |-- diagnoses.0.synchronous_malignancy: string (nullable = true)\n |-- disease_type: string (nullable = true)\n |-- id: string (nullable = true)\n |-- primary_site: string (nullable = true)\n |-- project.project_id: string (nullable = true)\n |-- submitter_id: string (nullable = true)\n |-- Top_SSMS: array (nullable = false)\n |    |-- element: string (containsNull = false)\n\n+--------------------+-------------------------+----------------------------+---------------------------------+-----------------------------+----------------------------+----------------------------------+-----------------+--------------------+--------------------+------------------+----------------+--------------------+\n|    demographic.race|demographic.year_of_death|diagnoses.0.age_at_diagnosis|diagnoses.0.ajcc_pathologic_stage|diagnoses.0.primary_diagnosis|diagnoses.0.prior_malignancy|diagnoses.0.synchronous_malignancy|     disease_type|                  id|        primary_site|project.project_id|    submitter_id|            Top_SSMS|\n+--------------------+-------------------------+----------------------------+---------------------------------+-----------------------------+----------------------------+----------------------------------+-----------------+--------------------+--------------------+------------------+----------------+--------------------+\n|black or african ...|                     NULL|                      3505.0|                             NULL|         Acute myeloid leu...|                        NULL|                              NULL|Myeloid Leukemias|29312892-078e-4a3...|Hematopoietic and...|        TARGET-AML|TARGET-20-PAUPIY|[TP53, PIK3CA, TT...|\n|               white|                     NULL|                      2327.0|                             NULL|         Acute myeloid leu...|                        NULL|                              NULL|Myeloid Leukemias|2939c0a9-3c47-401...|Hematopoietic and...|        TARGET-AML|TARGET-20-PAVDDU|[TP53, PIK3CA, TT...|\n|               white|                     NULL|                      6115.0|                             NULL|         Acute myeloid leu...|                        NULL|                              NULL|Myeloid Leukemias|cecefca5-6308-49f...|Hematopoietic and...|        TARGET-AML|TARGET-20-PAWYTW|[TP53, PIK3CA, TT...|\n|               white|                     NULL|                      5854.0|                             NULL|         Acute myeloid leu...|                        NULL|                              NULL|Myeloid Leukemias|56404ff6-a971-4d8...|Hematopoietic and...|        TARGET-AML|TARGET-20-PAWLHJ|[TP53, PIK3CA, TT...|\n|               white|                     NULL|                      5129.0|                             NULL|         Acute myeloid leu...|                        NULL|                              NULL|Myeloid Leukemias|792187f7-d5c3-497...|Hematopoietic and...|        TARGET-AML|TARGET-20-PAXLJV|[TP53, PIK3CA, TT...|\n+--------------------+-------------------------+----------------------------+---------------------------------+-----------------------------+----------------------------+----------------------------------+-----------------+--------------------+--------------------+------------------+----------------+--------------------+\nonly showing top 5 rows\n\n"
     ]
    }
   ],
   "source": [
    "# Converting the cases dataframe from Pandas to Spark df\n",
    "spark_cases_df = spark.createDataFrame(cases_df)\n",
    "spark_cases_df = spark_cases_df.withColumn(\"Top_SSMS\", lit(ssms_list))\n",
    "spark_cases_df.printSchema()\n",
    "spark_cases_df.show(5)"
   ]
  },
  {
   "cell_type": "code",
   "execution_count": 0,
   "metadata": {
    "application/vnd.databricks.v1+cell": {
     "cellMetadata": {
      "byteLimit": 2048000,
      "rowLimit": 10000
     },
     "inputWidgets": {},
     "nuid": "112bf405-f54d-477d-adfe-2395f5d2f572",
     "showTitle": false,
     "title": ""
    }
   },
   "outputs": [
    {
     "output_type": "stream",
     "name": "stdout",
     "output_type": "stream",
     "text": [
      "+--------------------+-------------------------+----------------------------+---------------------------------+-----------------------------+----------------------------+----------------------------------+-----------------+--------------------+--------------------+------------------+--------------------+--------------------+----+\n|    demographic.race|demographic.year_of_death|diagnoses.0.age_at_diagnosis|diagnoses.0.ajcc_pathologic_stage|diagnoses.0.primary_diagnosis|diagnoses.0.prior_malignancy|diagnoses.0.synchronous_malignancy|     disease_type|                  id|        primary_site|project.project_id|        submitter_id|            Top_SSMS|SSMS|\n+--------------------+-------------------------+----------------------------+---------------------------------+-----------------------------+----------------------------+----------------------------------+-----------------+--------------------+--------------------+------------------+--------------------+--------------------+----+\n|black or african ...|                     NULL|                      3505.0|                             NULL|         Acute myeloid leu...|                        NULL|                              NULL|Myeloid Leukemias|29312892-078e-4a3...|Hematopoietic and...|        TARGET-AML|    TARGET-20-PAUPIY|[TP53, PIK3CA, TT...|NULL|\n|               white|                     NULL|                      2327.0|                             NULL|         Acute myeloid leu...|                        NULL|                              NULL|Myeloid Leukemias|2939c0a9-3c47-401...|Hematopoietic and...|        TARGET-AML|    TARGET-20-PAVDDU|[TP53, PIK3CA, TT...|NULL|\n|               white|                     NULL|                      6115.0|                             NULL|         Acute myeloid leu...|                        NULL|                              NULL|Myeloid Leukemias|cecefca5-6308-49f...|Hematopoietic and...|        TARGET-AML|    TARGET-20-PAWYTW|[TP53, PIK3CA, TT...|NULL|\n|               white|                     NULL|                      5854.0|                             NULL|         Acute myeloid leu...|                        NULL|                              NULL|Myeloid Leukemias|56404ff6-a971-4d8...|Hematopoietic and...|        TARGET-AML|    TARGET-20-PAWLHJ|[TP53, PIK3CA, TT...|NULL|\n|               white|                     NULL|                      5129.0|                             NULL|         Acute myeloid leu...|                        NULL|                              NULL|Myeloid Leukemias|792187f7-d5c3-497...|Hematopoietic and...|        TARGET-AML|    TARGET-20-PAXLJV|[TP53, PIK3CA, TT...|NULL|\n|               white|                     NULL|                       873.0|                             NULL|         Acute myeloid leu...|                        NULL|                              NULL|Myeloid Leukemias|564a13c1-9271-43a...|Hematopoietic and...|        TARGET-AML|    TARGET-20-PAWNMU|[TP53, PIK3CA, TT...|NULL|\n|black or african ...|                     NULL|                      6455.0|                             NULL|         Acute myeloid leu...|                        NULL|                              NULL|Myeloid Leukemias|a302e5a2-8c3b-4fe...|Hematopoietic and...|        TARGET-AML|    TARGET-20-PAUSLS|[TP53, PIK3CA, TT...|NULL|\n|               white|                     NULL|                       130.0|                             NULL|         Acute myeloid leu...|                        NULL|                              NULL|Myeloid Leukemias|29608e9c-e885-4a1...|Hematopoietic and...|        TARGET-AML|    TARGET-20-PANRBV|[TP53, PIK3CA, TT...|NULL|\n|               white|                     NULL|                      5515.0|                             NULL|         Acute myeloid leu...|                        NULL|                              NULL|Myeloid Leukemias|cf352e47-3886-5ca...|Hematopoietic and...|        TARGET-AML|    TARGET-20-PARMIX|[TP53, PIK3CA, TT...|NULL|\n|                NULL|                     NULL|                        NULL|                             NULL|                         NULL|                        NULL|                              NULL|Myeloid Leukemias|797be3e8-13eb-403...|Hematopoietic and...|        TARGET-AML|TARGET-20-D45-EC-...|[TP53, PIK3CA, TT...|NULL|\n|               asian|                     NULL|                       651.0|                             NULL|         Acute myeloid leu...|                        NULL|                              NULL|Myeloid Leukemias|cf41caf7-ba8f-4ea...|Hematopoietic and...|        TARGET-AML|    TARGET-20-PAWVVJ|[TP53, PIK3CA, TT...|NULL|\n|                NULL|                     NULL|                        NULL|                             NULL|                         NULL|                        NULL|                              NULL|Myeloid Leukemias|798df67f-b721-447...|Hematopoietic and...|        TARGET-AML|    TARGET-20-PAYGXU|[TP53, PIK3CA, TT...|NULL|\n|               white|                     NULL|                      6328.0|                             NULL|         Acute myeloid leu...|                        NULL|                              NULL|Myeloid Leukemias|56799411-f3c6-49d...|Hematopoietic and...|        TARGET-AML|    TARGET-20-PAUVCL|[TP53, PIK3CA, TT...|NULL|\n|               white|                     NULL|                      6000.0|                             NULL|         Acute myeloid leu...|                        NULL|                              NULL|Myeloid Leukemias|798f95cc-ae1e-530...|Hematopoietic and...|        TARGET-AML|    TARGET-20-PARTAL|[TP53, PIK3CA, TT...|NULL|\n|black or african ...|                     NULL|                      4100.0|                             NULL|         Acute myeloid leu...|                        NULL|                              NULL|Myeloid Leukemias|cfc48bd9-a419-565...|Hematopoietic and...|        TARGET-AML|    TARGET-20-PARJUJ|[TP53, PIK3CA, TT...|NULL|\n|               white|                     NULL|                      5717.0|                             NULL|         Acute myeloid leu...|                        NULL|                              NULL|Myeloid Leukemias|57b20d48-10b0-4ee...|Hematopoietic and...|        TARGET-AML|    TARGET-20-PAWNHU|[TP53, PIK3CA, TT...|NULL|\n|             Unknown|                     NULL|                     10898.0|                             NULL|         Acute myeloid leu...|                        NULL|                              NULL|Myeloid Leukemias|57f0710d-f575-57c...|Hematopoietic and...|        TARGET-AML|    TARGET-20-PASFMX|[TP53, PIK3CA, TT...|NULL|\n|               white|                     NULL|                      5392.0|                             NULL|         Acute myeloid leu...|                        NULL|                              NULL|Myeloid Leukemias|7a3a607e-97f3-5a4...|Hematopoietic and...|        TARGET-AML|    TARGET-20-PARVLP|[TP53, PIK3CA, TT...|NULL|\n|               white|                     NULL|                      7344.0|                             NULL|         Acute myeloid leu...|                        NULL|                              NULL|Myeloid Leukemias|57fb5a45-424a-4ac...|Hematopoietic and...|        TARGET-AML|    TARGET-20-PAXDVZ|[TP53, PIK3CA, TT...|NULL|\n|               white|                     NULL|                      6660.0|                             NULL|         Acute myeloid leu...|                        NULL|                              NULL|Myeloid Leukemias|d001840d-8950-5ce...|Hematopoietic and...|        TARGET-AML|    TARGET-20-PASCGR|[TP53, PIK3CA, TT...|NULL|\n+--------------------+-------------------------+----------------------------+---------------------------------+-----------------------------+----------------------------+----------------------------------+-----------------+--------------------+--------------------+------------------+--------------------+--------------------+----+\nonly showing top 20 rows\n\n"
     ]
    }
   ],
   "source": [
    "# Using UDF to execute the API get request once per submitter ID in the cases df\n",
    "result_df = spark_cases_df.withColumn(\"SSMS\", udf_executeRestApi(col(\"`project.project_id`\"), col(\"submitter_id\"), col(\"Top_SSMS\")))\n",
    "\n",
    "result_df.show()"
   ]
  },
  {
   "cell_type": "code",
   "execution_count": 0,
   "metadata": {
    "application/vnd.databricks.v1+cell": {
     "cellMetadata": {
      "byteLimit": 2048000,
      "rowLimit": 10000
     },
     "inputWidgets": {},
     "nuid": "7990eb22-da9c-4596-adae-ba67eb703f29",
     "showTitle": false,
     "title": ""
    }
   },
   "outputs": [
    {
     "output_type": "stream",
     "name": "stdout",
     "output_type": "stream",
     "text": [
      "+--------------------+---------------+----------------+----------------+--------------------+----------------+----------------------+-----------------+--------------------+--------------------+--------------------+----+------+----+----+-----+-----+----+----+-----+------+--------+-------+------+----+----+----+----+----+------+----+-----+----+-----+----+----+-----+-----+----+----+\n|                Race|Deceased_Status|Age_At_Diagnosis|Pathologic_Stage|   Primary_Diagnosis|Prior_Malignancy|Synchronous_Malignancy|     Disease_Type|                  ID|        Primary_Site|        Submitter_ID|TP53|PIK3CA| TTN| APC|CSMD3|MUC16|KRAS|NRAS|MUC5B|NOTCH1|IGHV2-70|IGLV3-1|DNMT3A|NPM1|FLT3|PTEN|IDH1|ATRX|ARID1A| VHL|PBRM1| MET|SMAD4|BRAF|LRP2|FREM2|KMT2D|BTG2| B2M|\n+--------------------+---------------+----------------+----------------+--------------------+----------------+----------------------+-----------------+--------------------+--------------------+--------------------+----+------+----+----+-----+-----+----+----+-----+------+--------+-------+------+----+----+----+----+----+------+----+-----+----+-----+----+----+-----+-----+----+----+\n|black or african ...|           NULL|          3505.0|            NULL|Acute myeloid leu...|            NULL|                  NULL|Myeloid Leukemias|29312892-078e-4a3...|Hematopoietic and...|    TARGET-20-PAUPIY|NULL|  NULL|NULL|NULL| NULL| NULL|NULL|NULL| NULL|  NULL|    NULL|   NULL|  NULL|NULL|NULL|NULL|NULL|NULL|  NULL|NULL| NULL|NULL| NULL|NULL|NULL| NULL| NULL|NULL|NULL|\n|               white|           NULL|          2327.0|            NULL|Acute myeloid leu...|            NULL|                  NULL|Myeloid Leukemias|2939c0a9-3c47-401...|Hematopoietic and...|    TARGET-20-PAVDDU|NULL|  NULL|NULL|NULL| NULL| NULL|NULL|NULL| NULL|  NULL|    NULL|   NULL|  NULL|NULL|NULL|NULL|NULL|NULL|  NULL|NULL| NULL|NULL| NULL|NULL|NULL| NULL| NULL|NULL|NULL|\n|               white|           NULL|          6115.0|            NULL|Acute myeloid leu...|            NULL|                  NULL|Myeloid Leukemias|cecefca5-6308-49f...|Hematopoietic and...|    TARGET-20-PAWYTW|NULL|  NULL|NULL|NULL| NULL| NULL|NULL|NULL| NULL|  NULL|    NULL|   NULL|  NULL|NULL|NULL|NULL|NULL|NULL|  NULL|NULL| NULL|NULL| NULL|NULL|NULL| NULL| NULL|NULL|NULL|\n|               white|           NULL|          5854.0|            NULL|Acute myeloid leu...|            NULL|                  NULL|Myeloid Leukemias|56404ff6-a971-4d8...|Hematopoietic and...|    TARGET-20-PAWLHJ|NULL|  NULL|NULL|NULL| NULL| NULL|NULL|NULL| NULL|  NULL|    NULL|   NULL|  NULL|NULL|NULL|NULL|NULL|NULL|  NULL|NULL| NULL|NULL| NULL|NULL|NULL| NULL| NULL|NULL|NULL|\n|               white|           NULL|          5129.0|            NULL|Acute myeloid leu...|            NULL|                  NULL|Myeloid Leukemias|792187f7-d5c3-497...|Hematopoietic and...|    TARGET-20-PAXLJV|NULL|  NULL|NULL|NULL| NULL| NULL|NULL|NULL| NULL|  NULL|    NULL|   NULL|  NULL|NULL|NULL|NULL|NULL|NULL|  NULL|NULL| NULL|NULL| NULL|NULL|NULL| NULL| NULL|NULL|NULL|\n|               white|           NULL|           873.0|            NULL|Acute myeloid leu...|            NULL|                  NULL|Myeloid Leukemias|564a13c1-9271-43a...|Hematopoietic and...|    TARGET-20-PAWNMU|NULL|  NULL|NULL|NULL| NULL| NULL|NULL|NULL| NULL|  NULL|    NULL|   NULL|  NULL|NULL|NULL|NULL|NULL|NULL|  NULL|NULL| NULL|NULL| NULL|NULL|NULL| NULL| NULL|NULL|NULL|\n|black or african ...|           NULL|          6455.0|            NULL|Acute myeloid leu...|            NULL|                  NULL|Myeloid Leukemias|a302e5a2-8c3b-4fe...|Hematopoietic and...|    TARGET-20-PAUSLS|NULL|  NULL|NULL|NULL| NULL| NULL|NULL|NULL| NULL|  NULL|    NULL|   NULL|  NULL|NULL|NULL|NULL|NULL|NULL|  NULL|NULL| NULL|NULL| NULL|NULL|NULL| NULL| NULL|NULL|NULL|\n|               white|           NULL|           130.0|            NULL|Acute myeloid leu...|            NULL|                  NULL|Myeloid Leukemias|29608e9c-e885-4a1...|Hematopoietic and...|    TARGET-20-PANRBV|NULL|  NULL|NULL|NULL| NULL| NULL|NULL|NULL| NULL|  NULL|    NULL|   NULL|  NULL|NULL|NULL|NULL|NULL|NULL|  NULL|NULL| NULL|NULL| NULL|NULL|NULL| NULL| NULL|NULL|NULL|\n|               white|           NULL|          5515.0|            NULL|Acute myeloid leu...|            NULL|                  NULL|Myeloid Leukemias|cf352e47-3886-5ca...|Hematopoietic and...|    TARGET-20-PARMIX|NULL|  NULL|NULL|NULL| NULL| NULL|NULL|NULL| NULL|  NULL|    NULL|   NULL|  NULL|NULL|NULL|NULL|NULL|NULL|  NULL|NULL| NULL|NULL| NULL|NULL|NULL| NULL| NULL|NULL|NULL|\n|                NULL|           NULL|            NULL|            NULL|                NULL|            NULL|                  NULL|Myeloid Leukemias|797be3e8-13eb-403...|Hematopoietic and...|TARGET-20-D45-EC-...|NULL|  NULL|NULL|NULL| NULL| NULL|NULL|NULL| NULL|  NULL|    NULL|   NULL|  NULL|NULL|NULL|NULL|NULL|NULL|  NULL|NULL| NULL|NULL| NULL|NULL|NULL| NULL| NULL|NULL|NULL|\n|               asian|           NULL|           651.0|            NULL|Acute myeloid leu...|            NULL|                  NULL|Myeloid Leukemias|cf41caf7-ba8f-4ea...|Hematopoietic and...|    TARGET-20-PAWVVJ|NULL|  NULL|NULL|NULL| NULL| NULL|NULL|NULL| NULL|  NULL|    NULL|   NULL|  NULL|NULL|NULL|NULL|NULL|NULL|  NULL|NULL| NULL|NULL| NULL|NULL|NULL| NULL| NULL|NULL|NULL|\n|                NULL|           NULL|            NULL|            NULL|                NULL|            NULL|                  NULL|Myeloid Leukemias|798df67f-b721-447...|Hematopoietic and...|    TARGET-20-PAYGXU|NULL|  NULL|NULL|NULL| NULL| NULL|NULL|NULL| NULL|  NULL|    NULL|   NULL|  NULL|NULL|NULL|NULL|NULL|NULL|  NULL|NULL| NULL|NULL| NULL|NULL|NULL| NULL| NULL|NULL|NULL|\n|               white|           NULL|          6328.0|            NULL|Acute myeloid leu...|            NULL|                  NULL|Myeloid Leukemias|56799411-f3c6-49d...|Hematopoietic and...|    TARGET-20-PAUVCL|NULL|  NULL|NULL|NULL| NULL| NULL|NULL|NULL| NULL|  NULL|    NULL|   NULL|  NULL|NULL|NULL|NULL|NULL|NULL|  NULL|NULL| NULL|NULL| NULL|NULL|NULL| NULL| NULL|NULL|NULL|\n|               white|           NULL|          6000.0|            NULL|Acute myeloid leu...|            NULL|                  NULL|Myeloid Leukemias|798f95cc-ae1e-530...|Hematopoietic and...|    TARGET-20-PARTAL|NULL|  NULL|NULL|NULL| NULL| NULL|NULL|NULL| NULL|  NULL|    NULL|   NULL|  NULL|NULL|NULL|NULL|NULL|NULL|  NULL|NULL| NULL|NULL| NULL|NULL|NULL| NULL| NULL|NULL|NULL|\n|black or african ...|           NULL|          4100.0|            NULL|Acute myeloid leu...|            NULL|                  NULL|Myeloid Leukemias|cfc48bd9-a419-565...|Hematopoietic and...|    TARGET-20-PARJUJ|NULL|  NULL|NULL|NULL| NULL| NULL|NULL|NULL| NULL|  NULL|    NULL|   NULL|  NULL|NULL|NULL|NULL|NULL|NULL|  NULL|NULL| NULL|NULL| NULL|NULL|NULL| NULL| NULL|NULL|NULL|\n|               white|           NULL|          5717.0|            NULL|Acute myeloid leu...|            NULL|                  NULL|Myeloid Leukemias|57b20d48-10b0-4ee...|Hematopoietic and...|    TARGET-20-PAWNHU|NULL|  NULL|NULL|NULL| NULL| NULL|NULL|NULL| NULL|  NULL|    NULL|   NULL|  NULL|NULL|NULL|NULL|NULL|NULL|  NULL|NULL| NULL|NULL| NULL|NULL|NULL| NULL| NULL|NULL|NULL|\n|             Unknown|           NULL|         10898.0|            NULL|Acute myeloid leu...|            NULL|                  NULL|Myeloid Leukemias|57f0710d-f575-57c...|Hematopoietic and...|    TARGET-20-PASFMX|NULL|  NULL|NULL|NULL| NULL| NULL|NULL|NULL| NULL|  NULL|    NULL|   NULL|  NULL|NULL|NULL|NULL|NULL|NULL|  NULL|NULL| NULL|NULL| NULL|NULL|NULL| NULL| NULL|NULL|NULL|\n|               white|           NULL|          5392.0|            NULL|Acute myeloid leu...|            NULL|                  NULL|Myeloid Leukemias|7a3a607e-97f3-5a4...|Hematopoietic and...|    TARGET-20-PARVLP|NULL|  NULL|NULL|NULL| NULL| NULL|NULL|NULL| NULL|  NULL|    NULL|   NULL|  NULL|NULL|NULL|NULL|NULL|NULL|  NULL|NULL| NULL|NULL| NULL|NULL|NULL| NULL| NULL|NULL|NULL|\n|               white|           NULL|          7344.0|            NULL|Acute myeloid leu...|            NULL|                  NULL|Myeloid Leukemias|57fb5a45-424a-4ac...|Hematopoietic and...|    TARGET-20-PAXDVZ|NULL|  NULL|NULL|NULL| NULL| NULL|NULL|NULL| NULL|  NULL|    NULL|   NULL|  NULL|NULL|NULL|NULL|NULL|NULL|  NULL|NULL| NULL|NULL| NULL|NULL|NULL| NULL| NULL|NULL|NULL|\n|               white|           NULL|          6660.0|            NULL|Acute myeloid leu...|            NULL|                  NULL|Myeloid Leukemias|d001840d-8950-5ce...|Hematopoietic and...|    TARGET-20-PASCGR|NULL|  NULL|NULL|NULL| NULL| NULL|NULL|NULL| NULL|  NULL|    NULL|   NULL|  NULL|NULL|NULL|NULL|NULL|NULL|  NULL|NULL| NULL|NULL| NULL|NULL|NULL| NULL| NULL|NULL|NULL|\n+--------------------+---------------+----------------+----------------+--------------------+----------------+----------------------+-----------------+--------------------+--------------------+--------------------+----+------+----+----+-----+-----+----+----+-----+------+--------+-------+------+----+----+----+----+----+------+----+-----+----+-----+----+----+-----+-----+----+----+\nonly showing top 20 rows\n\n"
     ]
    }
   ],
   "source": [
    "# Hotcoding SSMS columns and renaming columns\n",
    "final_df = result_df.select(col(\"`demographic.race`\").alias(\"Race\"),\n",
    "                            col(\"`demographic.year_of_death`\").alias(\"Deceased_Status\"),\n",
    "                            col(\"`diagnoses.0.age_at_diagnosis`\").alias(\"Age_At_Diagnosis\"),\n",
    "                            col(\"`diagnoses.0.ajcc_pathologic_stage`\").alias(\"Pathologic_Stage\"),\n",
    "                            col(\"`diagnoses.0.primary_diagnosis`\").alias(\"Primary_Diagnosis\"),\n",
    "                            col(\"`diagnoses.0.prior_malignancy`\").alias(\"Prior_Malignancy\"),\n",
    "                            col(\"`diagnoses.0.synchronous_malignancy`\").alias(\"Synchronous_Malignancy\"),\n",
    "                            col(\"`disease_type`\").alias(\"Disease_Type\"),\n",
    "                            col(\"`id`\").alias(\"ID\"),\n",
    "                            col(\"`primary_site`\").alias(\"Primary_Site\"),\n",
    "                            col(\"`submitter_id`\").alias(\"Submitter_ID\"),\n",
    "                            array_contains('SSMS', ssms_list[0]).alias(ssms_list[0]),\n",
    "                            array_contains('SSMS', ssms_list[1]).alias(ssms_list[1]),\n",
    "                            array_contains('SSMS', ssms_list[2]).alias(ssms_list[2]),\n",
    "                            array_contains('SSMS', ssms_list[3]).alias(ssms_list[3]),\n",
    "                            array_contains('SSMS', ssms_list[4]).alias(ssms_list[4]),\n",
    "                            array_contains('SSMS', ssms_list[5]).alias(ssms_list[5]),\n",
    "                            array_contains('SSMS', ssms_list[6]).alias(ssms_list[6]),\n",
    "                            array_contains('SSMS', ssms_list[7]).alias(ssms_list[7]),\n",
    "                            array_contains('SSMS', ssms_list[8]).alias(ssms_list[8]),\n",
    "                            array_contains('SSMS', ssms_list[9]).alias(ssms_list[9]),\n",
    "                            array_contains('SSMS', ssms_list[10]).alias(ssms_list[10]),\n",
    "                            array_contains('SSMS', ssms_list[11]).alias(ssms_list[11]),\n",
    "                            array_contains('SSMS', ssms_list[12]).alias(ssms_list[12]),\n",
    "                            array_contains('SSMS', ssms_list[13]).alias(ssms_list[13]),\n",
    "                            array_contains('SSMS', ssms_list[14]).alias(ssms_list[14]),\n",
    "                            array_contains('SSMS', ssms_list[15]).alias(ssms_list[15]),\n",
    "                            array_contains('SSMS', ssms_list[16]).alias(ssms_list[16]),\n",
    "                            array_contains('SSMS', ssms_list[17]).alias(ssms_list[17]),\n",
    "                            array_contains('SSMS', ssms_list[18]).alias(ssms_list[18]),\n",
    "                            array_contains('SSMS', ssms_list[19]).alias(ssms_list[19]),\n",
    "                            array_contains('SSMS', ssms_list[20]).alias(ssms_list[20]),\n",
    "                            array_contains('SSMS', ssms_list[21]).alias(ssms_list[21]),\n",
    "                            array_contains('SSMS', ssms_list[22]).alias(ssms_list[22]),\n",
    "                            array_contains('SSMS', ssms_list[23]).alias(ssms_list[23]),\n",
    "                            array_contains('SSMS', ssms_list[24]).alias(ssms_list[24]),\n",
    "                            array_contains('SSMS', ssms_list[25]).alias(ssms_list[25]),\n",
    "                            array_contains('SSMS', ssms_list[26]).alias(ssms_list[26]),\n",
    "                            array_contains('SSMS', ssms_list[27]).alias(ssms_list[27]),\n",
    "                            array_contains('SSMS', ssms_list[28]).alias(ssms_list[28]))\n",
    "                            # array_contains('SSMS', ssms_list[29]).alias(ssms_list[29]),\n",
    "                            # array_contains('SSMS', ssms_list[30]).alias(ssms_list[30]),\n",
    "                            # array_contains('SSMS', ssms_list[31]).alias(ssms_list[31]),\n",
    "                            # array_contains('SSMS', ssms_list[32]).alias(ssms_list[32]),\n",
    "                            # array_contains('SSMS', ssms_list[33]).alias(ssms_list[33]),\n",
    "                            # array_contains('SSMS', ssms_list[34]).alias(ssms_list[34]),\n",
    "                            # array_contains('SSMS', ssms_list[35]).alias(ssms_list[35]),\n",
    "                            # array_contains('SSMS', ssms_list[36]).alias(ssms_list[36]),\n",
    "                            # array_contains('SSMS', ssms_list[37]).alias(ssms_list[37]),\n",
    "                            # array_contains('SSMS', ssms_list[38]).alias(ssms_list[38]),\n",
    "                            # array_contains('SSMS', ssms_list[39]).alias(ssms_list[39]),\n",
    "                            # array_contains('SSMS', ssms_list[40]).alias(ssms_list[40]),\n",
    "                            # array_contains('SSMS', ssms_list[41]).alias(ssms_list[41]),\n",
    "                            # array_contains('SSMS', ssms_list[41]).alias(ssms_list[42]),\n",
    "                            # array_contains('SSMS', ssms_list[41]).alias(ssms_list[43]),\n",
    "                            # array_contains('SSMS', ssms_list[41]).alias(ssms_list[44]),\n",
    "                            # array_contains('SSMS', ssms_list[41]).alias(ssms_list[45]))\n",
    "                            \n",
    "final_df.show()"
   ]
  },
  {
   "cell_type": "code",
   "execution_count": 0,
   "metadata": {
    "application/vnd.databricks.v1+cell": {
     "cellMetadata": {
      "byteLimit": 2048000,
      "rowLimit": 10000
     },
     "inputWidgets": {},
     "nuid": "d43cf4da-e739-4a9c-9f67-d7791a4d58de",
     "showTitle": false,
     "title": ""
    }
   },
   "outputs": [
    {
     "output_type": "stream",
     "name": "stdout",
     "output_type": "stream",
     "text": [
      "+--------------------+-----+\n|        Primary_Site|count|\n+--------------------+-----+\n|     Small intestine|    7|\n|                Skin|  505|\n|   Bronchus and lung| 1431|\n|         Lymph nodes|   30|\n|Hematopoietic and...| 6040|\n|Heart, mediastinu...|    2|\n|               Colon|  505|\n|         Uterus, NOS|  254|\n|             Unknown|   70|\n|              Kidney| 1204|\n|Other and ill-def...|  112|\n|             Bladder|    1|\n|Other and ill-def...|    2|\n|             Stomach|   17|\n|Bones, joints and...|    5|\n|Retroperitoneum a...|    1|\n|            Pancreas|  401|\n|       Thyroid gland|  509|\n|               Brain| 1294|\n|Other and unspeci...|    1|\n|              Testis|    1|\n|Connective, subcu...|    8|\n|Other and ill-def...|    1|\n|              Breast| 1120|\n|Rectosigmoid junc...|   80|\n|              Rectum|  110|\n|        Corpus uteri|  548|\n|Liver and intrahe...|    1|\n|         Gallbladder|    1|\n|           Esophagus|   34|\n|Other and unspeci...|    1|\n|Other and unspeci...|    6|\n|               Ovary|    1|\n|                NULL|    1|\n+--------------------+-----+\n\n"
     ]
    }
   ],
   "source": [
    "final_df.groupBy('Primary_Site').count().show(50)"
   ]
  },
  {
   "cell_type": "markdown",
   "metadata": {
    "application/vnd.databricks.v1+cell": {
     "cellMetadata": {
      "byteLimit": 2048000,
      "rowLimit": 10000
     },
     "inputWidgets": {},
     "nuid": "5ce97c9e-ae68-4019-ac06-666ec9edb4a9",
     "showTitle": false,
     "title": ""
    }
   },
   "source": [
    "## Writing the final ingested Spark dataframe as a CSV and upload to the S3 bucket"
   ]
  },
  {
   "cell_type": "code",
   "execution_count": 0,
   "metadata": {
    "application/vnd.databricks.v1+cell": {
     "cellMetadata": {
      "byteLimit": 2048000,
      "rowLimit": 10000
     },
     "inputWidgets": {},
     "nuid": "458b84ca-c235-4768-95e9-eeb7c76ca23b",
     "showTitle": false,
     "title": ""
    }
   },
   "outputs": [],
   "source": [
    "AWS_ACCESS_KEY_ID = os.getenv(\"AWS_ACCESS_KEY_ID\")\n",
    "AWS_SECRET_ACCESS_KEY = os.getenv(\"AWS_SECRET_ACCESS_KEY\")"
   ]
  },
  {
   "cell_type": "code",
   "execution_count": 0,
   "metadata": {
    "application/vnd.databricks.v1+cell": {
     "cellMetadata": {
      "byteLimit": 2048000,
      "rowLimit": 10000
     },
     "inputWidgets": {},
     "nuid": "674dc88a-33db-44ef-ba98-ecf97e2f0821",
     "showTitle": false,
     "title": ""
    }
   },
   "outputs": [],
   "source": [
    "sc._jsc.hadoopConfiguration().set('fs.s3a.access.key', AWS_ACCESS_KEY_ID)\n",
    "sc._jsc.hadoopConfiguration().set('fs.s3a.secret.key', AWS_SECRET_ACCESS_KEY)\n",
    "sc._jsc.hadoopConfiguration().set('fs.s3a.path.style.access', 'true')\n",
    "sc._jsc.hadoopConfiguration().set('fs.s3a.impl', 'org.apache.hadoop.fs.s3a.S3AFileSystem')\n",
    "sc._jsc.hadoopConfiguration().set('fs.s3a.endpoint', 's3.amazonaws.com')"
   ]
  },
  {
   "cell_type": "code",
   "execution_count": 0,
   "metadata": {
    "application/vnd.databricks.v1+cell": {
     "cellMetadata": {
      "byteLimit": 2048000,
      "rowLimit": 10000
     },
     "inputWidgets": {},
     "nuid": "0724410a-1aca-4b3e-95d8-506e0d61c39e",
     "showTitle": false,
     "title": ""
    }
   },
   "outputs": [],
   "source": [
    "final_df.repartition(1).write.format('csv').option('header','true').save('s3a://csis-4495-tcga/rawdata/', mode='overwrite')"
   ]
  },
  {
   "cell_type": "code",
   "execution_count": 0,
   "metadata": {
    "application/vnd.databricks.v1+cell": {
     "cellMetadata": {
      "byteLimit": 2048000,
      "rowLimit": 10000
     },
     "inputWidgets": {},
     "nuid": "fc467bd7-fee0-412f-aa82-a3d7897f708c",
     "showTitle": false,
     "title": ""
    }
   },
   "outputs": [
    {
     "output_type": "stream",
     "name": "stdout",
     "output_type": "stream",
     "text": [
      "File has been renamed froms3a://csis-4495-tcga/rawdata/to thiss3a://csis-4495-tcga/rawdata/tcga_raw.csv\n"
     ]
    }
   ],
   "source": [
    "# Rename the file on S3 for SageMaker pipeline\n",
    "source_path = 's3a://csis-4495-tcga/rawdata/'\n",
    "destination_path = 's3a://csis-4495-tcga/rawdata/'\n",
    "\n",
    "def rename_file_with_location(source_path,destination_path,file_name):\n",
    "    files = dbutils.fs.ls(source_path)\n",
    "    csv_file = [x.path for x in files if x.path.endswith(\".csv\")][0]\n",
    "    dbutils.fs.mv(csv_file, destination_path + file_name)\n",
    "    print(\"File has been renamed from\"+source_path+\"to this\"+destination_path+file_name)\n",
    "\n",
    "rename_file_with_location(source_path, destination_path, 'tcga_raw.csv')"
   ]
  },
  {
   "cell_type": "code",
   "execution_count": 0,
   "metadata": {
    "application/vnd.databricks.v1+cell": {
     "cellMetadata": {
      "byteLimit": 2048000,
      "rowLimit": 10000
     },
     "inputWidgets": {},
     "nuid": "645169be-2d5f-41f6-aca1-203c9cddf3bf",
     "showTitle": false,
     "title": ""
    }
   },
   "outputs": [
    {
     "output_type": "display_data",
     "data": {
      "text/html": [
       "<style scoped>\n",
       "  .ansiout {\n",
       "    display: block;\n",
       "    unicode-bidi: embed;\n",
       "    white-space: pre-wrap;\n",
       "    word-wrap: break-word;\n",
       "    word-break: break-all;\n",
       "    font-family: \"Menlo\", \"Monaco\", \"Consolas\", \"Ubuntu Mono\", \"Source Code Pro\", monospace;\n",
       "    font-size: 13px;\n",
       "    color: #555;\n",
       "    margin-left: 4px;\n",
       "    line-height: 19px;\n",
       "  }\n",
       "</style>"
      ]
     },
     "metadata": {
      "application/vnd.databricks.v1+output": {
       "arguments": {},
       "data": "",
       "errorSummary": "The spark context has stopped and the driver is restarting. Your notebook will be automatically reattached.",
       "errorTraceType": "html",
       "metadata": {},
       "type": "ipynbError"
      }
     },
     "output_type": "display_data"
    }
   ],
   "source": [
    "# Stop the Spark session\n",
    "spark.stop()"
   ]
  }
 ],
 "metadata": {
  "application/vnd.databricks.v1+notebook": {
   "dashboards": [],
   "language": "python",
   "notebookMetadata": {
    "pythonIndentUnit": 4
   },
   "notebookName": "TCGA-Ingestion",
   "widgets": {}
  },
  "kernelspec": {
   "display_name": "Python 3 (ipykernel)",
   "language": "python",
   "name": "python3"
  },
  "language_info": {
   "codemirror_mode": {
    "name": "ipython",
    "version": 3
   },
   "file_extension": ".py",
   "mimetype": "text/x-python",
   "name": "python",
   "nbconvert_exporter": "python",
   "pygments_lexer": "ipython3",
   "version": "3.11.5"
  }
 },
 "nbformat": 4,
 "nbformat_minor": 0
}
